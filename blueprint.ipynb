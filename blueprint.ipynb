{
 "cells": [
  {
   "cell_type": "code",
   "execution_count": 1,
   "metadata": {},
   "outputs": [],
   "source": [
    "import numpy as np\n",
    "\n",
    "import attr\n",
    "\n",
    "import joblib\n",
    "\n",
    "from skcriteria import norm"
   ]
  },
  {
   "cell_type": "code",
   "execution_count": 33,
   "metadata": {},
   "outputs": [],
   "source": [
    "@attr.s(frozen=True)\n",
    "class DRVResult(object):\n",
    "    \n",
    "    I = attr.ib(repr=False)\n",
    "    climit = attr.ib(repr=False)\n",
    "    \n",
    "    wnproducts = attr.ib(repr=False)\n",
    "    wsctotal = attr.ib(repr=False)\n",
    "    wssw = attr.ib(repr=False)\n",
    "    wssb = attr.ib(repr=False)\n",
    "    wscu = attr.ib(repr=False)\n",
    "    wivr = attr.ib()\n",
    "    win_consensus = attr.ib()\n",
    "    \n",
    "    anproducts = attr.ib(repr=False)\n",
    "    asctotal = attr.ib(repr=False)\n",
    "    assw = attr.ib(repr=False)\n",
    "    assb = attr.ib(repr=False)\n",
    "    ascu = attr.ib(repr=False)\n",
    "    aivr = attr.ib()\n",
    "    ain_consensus = attr.ib()\n",
    "    \n",
    "    pval = attr.ib()\n",
    "    \n",
    "\n",
    "def nproduct_indexes(nproducts):\n",
    "    sctotal = np.sum((nproducts - np.mean(nproducts)) ** 2)\n",
    "    ssw = np.sum((nproducts - np.mean(nproducts, axis=0)) ** 2)\n",
    "    ssb = sctotal - ssw\n",
    "    scu = (\n",
    "        (nproducts.shape[0] - 1) / \n",
    "        float(nproducts.shape[1] * 3))\n",
    "    \n",
    "    ivr = ssw / scu\n",
    "    resume = np.mean(nproducts, axis=0)\n",
    "    \n",
    "    return sctotal, ssw, ssb, scu, ivr, resume\n",
    "\n",
    "\n",
    "def solve_nproducts(mtx):\n",
    "    rmtx = np.flip(mtx, axis=1)\n",
    "    rcumprod = np.cumprod(rmtx, axis=1)\n",
    "    wproducts = np.flip(rcumprod, axis=1)\n",
    "    return norm.sum(wproducts, axis=1)\n",
    "\n",
    "\n",
    "def subproblem(mtx):\n",
    "    nproducts = solve_nproducts(mtx)\n",
    "    sctotal, ssw, ssb, scu, ivr, resume = nproduct_indexes(nproducts)\n",
    "    return nproducts, sctotal, ssw, ssb, scu, ivr, resume\n",
    "\n",
    "   \n",
    "def drv(weights, abc, climit=.25, njobs=None):\n",
    "       \n",
    "    # number of participants & alternatives\n",
    "    N, I = np.shape(abc[0])\n",
    "    \n",
    "    # number of criteria\n",
    "    J = len(abc)\n",
    "    \n",
    "    if np.ndim(weights) > 1:\n",
    "        wnp, wsct, wssw, wssb, wscu, wivr, weights = subproblem(weights)\n",
    "        winc = wivr <= climit\n",
    "    else:\n",
    "        wwnp, wsct, wssw, wscu, wivr, wssb = None, None, None, None, None, None\n",
    "        winc = None\n",
    "        \n",
    "    anp = []\n",
    "    asct = np.empty(J)\n",
    "    assw = np.empty(J)\n",
    "    assb = np.empty(J)\n",
    "    ascu = np.empty(J)\n",
    "    aivr = np.empty(J)\n",
    "    aagg = np.empty((J, I))\n",
    "    \n",
    "    njobs = joblib.cpu_count() if njobs is None else njobs\n",
    "    with joblib.Parallel(n_jobs=njobs) as jobs:\n",
    "        results = jobs(\n",
    "            joblib.delayed(subproblem)(amtx)\n",
    "            for amtx in abc)\n",
    "        for idx, r in enumerate(results):\n",
    "            anp.append(r[0]) \n",
    "            asct[idx] = r[1]\n",
    "            assw[idx] = r[2] \n",
    "            assb[idx] = r[3]\n",
    "            ascu[idx] = r[4]\n",
    "            aivr[idx] = r[5] \n",
    "            aagg[idx] = r[6]\n",
    "    \n",
    "    ainc = aivr <= climit\n",
    "    \n",
    "    return DRVResult(\n",
    "        I=I, climit=climit, wnproducts=wnp, pval=.5,\n",
    "        wsctotal=wsct, wssw=wssw, wssb=wssb, \n",
    "        wscu=wscu, wivr=wivr, win_consensus=winc,\n",
    "        anproducts=tuple(anp), asctotal=asct, assw=assw,\n",
    "        assb=assb, ascu=ascu, aivr=aivr, ain_consensus=ainc), weights , aagg   "
   ]
  },
  {
   "cell_type": "code",
   "execution_count": 34,
   "metadata": {},
   "outputs": [],
   "source": [
    "wmtx = [\n",
    "    [1.0, 2.0, 2.0, 1.0, 1.0, 2.0, 1.0],\n",
    "    [1.0, 2.0, 1.0, 2.0, 1.0, 1.0, 1.0],\n",
    "    [1.5, 1.0, 1.0, 2.0, 1.0, 1.0, 1.0],\n",
    "    [1.5, 2.0, 1.2, 1.5, 1.0, 1.5, 1.0],\n",
    "    [1.5, 1.5, 1.2, 1.5, 1.2, 1.0, 1.0],\n",
    "    [2.0, 1.5, 1.0, 1.0, 1.1, 1.0, 1.0]]\n",
    "\n",
    "e_wp_matrix = norm.sum([\n",
    "    [8.0, 8.0, 4.0, 2.0, 2.0, 2.0, 1.0],\n",
    "    [4.0, 4.0, 2.0, 2.0, 1.0, 1.0, 1.0],\n",
    "    [3.0, 2.0, 2.0, 2.0, 1.0, 1.0, 1.0],\n",
    "    [8.1, 5.4, 2.7, 2.25, 1.5, 1.5, 1.0],\n",
    "    [4.86, 3.24, 2.16, 1.8, 1.2, 1.0, 1.0],\n",
    "    [3.3, 1.65, 1.1, 1.1, 1.1, 1.0, 1.0]], axis=1)\n",
    "\n",
    "abc = [\n",
    "    # MO\n",
    "    np.array([\n",
    "        [2.5, 2.0, 1.0],\n",
    "        [0.5, 3.0, 1.0],\n",
    "        [2.5, 2.0, 1.0],\n",
    "        [1.0, 3.0, 1.0],\n",
    "        [1.0, 4.0, 1.0],\n",
    "        [6.0, 5.0, 1.0]]),\n",
    "    \n",
    "    # COSTO\n",
    "    np.array([\n",
    "        [1.0, 1.0, 1.0],\n",
    "        [1.0, 1.0, 1.0],\n",
    "        [3.0, 2.5, 1.0],\n",
    "        [1.4, 1.3, 1.0],\n",
    "        [2.5, 2.0, 1.0],\n",
    "        [0.5, 0.5, 1.0]]),\n",
    "    \n",
    "    # EXP\n",
    "    np.array([\n",
    "        [3.0, 2.5, 1.0],\n",
    "        [2.4, 1.2, 1.0],\n",
    "        [1.0, 1.0, 1.0],\n",
    "        [5.0, 4.0, 1.0],\n",
    "        [1.5, 2.0, 1.0],\n",
    "        [1.0, 1.0, 1.0]]),\n",
    "    \n",
    "    # FLOTA\n",
    "    np.array([\n",
    "        [0.67, 3.0, 1.0],\n",
    "        [0.9, 2.1, 1.0],\n",
    "        [1.2, 4.0, 1.0],\n",
    "        [1.5, 2.0, 1.0],\n",
    "        [0.9, 4.4, 1.0],\n",
    "        [1.5, 2.0, 1.0]]),\n",
    "    \n",
    "    # MEJ SERV\n",
    "    np.array([\n",
    "        [1.5, 2.0, 1.0],\n",
    "        [1.0, 2.0, 1.0],\n",
    "        [1.0, 3.0, 1.0],\n",
    "        [1.5, 3.0, 1.0],\n",
    "        [1.0, 3.0, 1.0],\n",
    "        [1.0, 3.0, 1.0]]),\n",
    "    \n",
    "    # HyS\n",
    "    np.array([\n",
    "        [1.5, 4.0, 1.0],\n",
    "        [1.0, 3.0, 1.0],\n",
    "        [1.0, 3.0, 1.0],\n",
    "        [1.0, 3.0, 1.0],\n",
    "        [1.2, 4.0, 1.0],\n",
    "        [1.1, 3.0, 1.0]]),\n",
    "    \n",
    "    # trat\n",
    "    np.array([\n",
    "        [2.0, 1.5, 1.0],\n",
    "        [1.0, 1.0, 1.0],\n",
    "        [3.0, 1.0, 1.0],\n",
    "        [2.0, 1.2, 1.0],\n",
    "        [4.0, 1.0, 1.0],\n",
    "        [1.5, 1.1, 1.0]])\n",
    "]\n",
    "\n",
    "\n",
    "def _test():\n",
    "    result, weights, aagg = drv(weights=wmtx, abc=abc)\n",
    "    np.testing.assert_allclose(result.wnproducts, e_wp_matrix)\n",
    "    np.testing.assert_allclose(result.wsctotal, 0.3178, rtol=1e-03)\n",
    "    np.testing.assert_allclose(result.wssw, 0.0345, rtol=1e-03)\n",
    "    np.testing.assert_allclose(result.wssb, 0.2833, rtol=1e-03)\n",
    "    np.testing.assert_allclose(result.wscu, 0.2381, rtol=1e-03)\n",
    "    np.testing.assert_allclose(result.wivr, 0.145, rtol=1e-03)\n",
    "    return result, weights, aagg\n",
    "\n"
   ]
  },
  {
   "cell_type": "code",
   "execution_count": 35,
   "metadata": {},
   "outputs": [],
   "source": [
    "result, weights, aagg = _test()"
   ]
  },
  {
   "cell_type": "code",
   "execution_count": 38,
   "metadata": {},
   "outputs": [
    {
     "data": {
      "text/plain": [
       "DRVResult(wivr=0.1449755542284763, win_consensus=True, aivr=array([0.58317841, 0.6558023 , 0.49748786, 0.10039377, 0.04603088,\n",
       "       0.03085664, 0.19429237]), ain_consensus=array([False, False, False,  True,  True,  True,  True]), pval=0.5)"
      ]
     },
     "execution_count": 38,
     "metadata": {},
     "output_type": "execute_result"
    }
   ],
   "source": [
    "result"
   ]
  },
  {
   "cell_type": "code",
   "execution_count": 39,
   "metadata": {},
   "outputs": [
    {
     "data": {
      "text/plain": [
       "array([False, False, False,  True,  True,  True,  True])"
      ]
     },
     "execution_count": 39,
     "metadata": {},
     "output_type": "execute_result"
    }
   ],
   "source": [
    "result.ain_consensus"
   ]
  },
  {
   "cell_type": "code",
   "execution_count": 26,
   "metadata": {},
   "outputs": [
    {
     "data": {
      "text/plain": [
       "array([0.58317841, 0.6558023 , 0.49748786, 0.10039377, 0.04603088,\n",
       "       0.03085664, 0.19429237])"
      ]
     },
     "execution_count": 26,
     "metadata": {},
     "output_type": "execute_result"
    }
   ],
   "source": [
    "result.aivr"
   ]
  }
 ],
 "metadata": {
  "kernelspec": {
   "display_name": "Python 3",
   "language": "python",
   "name": "python3"
  },
  "language_info": {
   "codemirror_mode": {
    "name": "ipython",
    "version": 3
   },
   "file_extension": ".py",
   "mimetype": "text/x-python",
   "name": "python",
   "nbconvert_exporter": "python",
   "pygments_lexer": "ipython3",
   "version": "3.6.3"
  }
 },
 "nbformat": 4,
 "nbformat_minor": 2
}
