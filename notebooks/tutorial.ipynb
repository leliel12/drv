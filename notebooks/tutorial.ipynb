{
 "cells": [
  {
   "cell_type": "markdown",
   "metadata": {},
   "source": [
    "# Tutorial for `sc_drv`\n",
    "\n",
    "`sc_drv` is a [Python](http://python.org) module that implement the DRV processes developed on top of [Scikit-Criteria](http://scikit-criteria.org).\n",
    "\n",
    "**Authors**\n",
    "\n",
    "-   Juan B. Cabral ([IATE-OAC-CONICET](https://iate.oac.uncor.edu),\n",
    "    [FCEIA-UNR](https://web.fceia.unr.edu.ar/es/)) <jbc.develop@gmail.com>\n",
    "-   Nadia A. Luczywo ([LIMI-FCEFyN-UNC](http://www.portal.efn.uncor.edu),\n",
    "    [FCE-UNC](http://www.eco.unc.edu.ar/),\n",
    "    [SECyT-UNC](https://www.unc.edu.ar/ciencia-y-tecnolog%C3%ADa/))\n",
    "    <nluczywo@gmail.com>\n",
    "-   José L. Zanazzi ([LIMI-FCEFyN-UNC](http://www.portal.efn.uncor.edu))\n",
    "    <jl.zanazzi@gmail.com>\n",
    "\n",
    "\n",
    "## What is DRV Processes?\n",
    "\n",
    "DRV processes have been developed to support Group Decision\n",
    "Making. They are applicable to the cases in which\n",
    "all members of the group operate in the same organization and, therefore,\n",
    "they must share organizational values, knowledge and preferences.\n",
    "Assumes that it is necessary to generate agreement on the preferences of\n",
    "group members. "
   ]
  },
  {
   "cell_type": "code",
   "execution_count": 1,
   "metadata": {},
   "outputs": [],
   "source": [
    "from sc_drv import DRVProcess"
   ]
  },
  {
   "cell_type": "code",
   "execution_count": 2,
   "metadata": {},
   "outputs": [],
   "source": [
    "wmtx = [\n",
    "    [1.0, 2.0, 2.0, 1.0, 1.0, 2.0, 1.0],\n",
    "    [1.0, 2.0, 1.0, 2.0, 1.0, 1.0, 1.0],\n",
    "    [1.5, 1.0, 1.0, 2.0, 1.0, 1.0, 1.0],\n",
    "    [1.5, 2.0, 1.2, 1.5, 1.0, 1.5, 1.0],\n",
    "    [1.5, 1.5, 1.2, 1.5, 1.2, 1.0, 1.0],\n",
    "    [2.0, 1.5, 1.0, 1.0, 1.1, 1.0, 1.0]]\n",
    "\n",
    "abc = [\n",
    "    # MO\n",
    "    [[2.5, 2.0, 1.0],\n",
    "     [0.5, 3.0, 1.0],\n",
    "     [2.5, 2.0, 1.0],\n",
    "     [1.0, 3.0, 1.0],\n",
    "     [1.0, 4.0, 1.0],\n",
    "     [6.0, 5.0, 1.0]],\n",
    "\n",
    "    # COSTO\n",
    "    [[1.0, 1.0, 1.0],\n",
    "     [1.0, 1.0, 1.0],\n",
    "     [3.0, 2.5, 1.0],\n",
    "     [1.4, 1.3, 1.0],\n",
    "     [2.5, 2.0, 1.0],\n",
    "     [0.5, 0.5, 1.0]],\n",
    "\n",
    "    # EXP\n",
    "    [[3.0, 2.5, 1.0],\n",
    "     [2.4, 1.2, 1.0],\n",
    "     [1.0, 1.0, 1.0],\n",
    "     [5.0, 4.0, 1.0],\n",
    "     [1.5, 2.0, 1.0],\n",
    "     [1.0, 1.0, 1.0]],\n",
    "\n",
    "    # FLOTA\n",
    "    [[0.67, 3.0, 1.0],\n",
    "     [0.9, 2.1, 1.0],\n",
    "     [1.2, 4.0, 1.0],\n",
    "     [1.5, 2.0, 1.0],\n",
    "     [0.9, 4.4, 1.0],\n",
    "     [1.5, 2.0, 1.0]],\n",
    "\n",
    "    # MEJ SERV\n",
    "    [[1.5, 2.0, 1.0],\n",
    "     [1.0, 2.0, 1.0],\n",
    "     [1.0, 3.0, 1.0],\n",
    "     [1.5, 3.0, 1.0],\n",
    "     [1.0, 3.0, 1.0],\n",
    "     [1.0, 3.0, 1.0]],\n",
    "\n",
    "    # HyS\n",
    "    [[1.5, 4.0, 1.0],\n",
    "     [1.0, 3.0, 1.0],\n",
    "     [1.0, 3.0, 1.0],\n",
    "     [1.0, 3.0, 1.0],\n",
    "     [1.2, 4.0, 1.0],\n",
    "     [1.1, 3.0, 1.0]],\n",
    "\n",
    "    # trat\n",
    "    [[2.0, 1.5, 1.0],\n",
    "     [1.0, 1.0, 1.0],\n",
    "     [3.0, 1.0, 1.0],\n",
    "     [2.0, 1.2, 1.0],\n",
    "     [4.0, 1.0, 1.0],\n",
    "     [1.5, 1.1, 1.0]]\n",
    "]"
   ]
  },
  {
   "cell_type": "code",
   "execution_count": 3,
   "metadata": {},
   "outputs": [
    {
     "data": {
      "text/plain": [
       "DRVProcess(climit=0.25, ntest='shapiro', ntest_kwargs=None, njobs=None)"
      ]
     },
     "execution_count": 3,
     "metadata": {},
     "output_type": "execute_result"
    }
   ],
   "source": [
    "dec = DRVProcess()\n",
    "dec"
   ]
  },
  {
   "cell_type": "code",
   "execution_count": 4,
   "metadata": {},
   "outputs": [
    {
     "data": {
      "text/plain": [
       "DRVResult(N=6, I=3, J=7, ntest='shapiro', ntest_kwargs=None, climit=0.25, consensus=False)"
      ]
     },
     "execution_count": 4,
     "metadata": {},
     "output_type": "execute_result"
    }
   ],
   "source": [
    "result = dec.decide(weights=wmtx, abc=abc)\n",
    "result"
   ]
  },
  {
   "cell_type": "code",
   "execution_count": 5,
   "metadata": {},
   "outputs": [],
   "source": [
    "%matplotlib inline\n",
    "import matplotlib.pyplot as plt"
   ]
  },
  {
   "cell_type": "code",
   "execution_count": 6,
   "metadata": {},
   "outputs": [],
   "source": [
    "# result.mtx_participants"
   ]
  },
  {
   "cell_type": "code",
   "execution_count": 7,
   "metadata": {},
   "outputs": [],
   "source": [
    "# result.plot.weights_by_criteria();"
   ]
  },
  {
   "cell_type": "code",
   "execution_count": 11,
   "metadata": {},
   "outputs": [],
   "source": []
  },
  {
   "cell_type": "code",
   "execution_count": 12,
   "metadata": {},
   "outputs": [
    {
     "data": {
      "text/plain": [
       "Text(0.5,0.98,'foo')"
      ]
     },
     "execution_count": 12,
     "metadata": {},
     "output_type": "execute_result"
    }
   ],
   "source": []
  },
  {
   "cell_type": "markdown",
   "metadata": {},
   "source": [
    "## References\n",
    "\n",
    "-   Zanazzi, J. L., Gomes, L. F. A. M., & Dimitroff, M. (2014). Group decision\n",
    "    making applied to preventive maintenance systems. Pesquisa Operacional,\n",
    "    34(1), 91-105.\n",
    "-   Cabral, J. B., Luczywo, N. A., & Zanazzi, J. L. (2016). Scikit-Criteria:\n",
    "    colección de métodos de análisis multi-criterio integrado al stack\n",
    "    científico de Python. In XIV Simposio Argentino de Investigación Operativa\n",
    "    (SIO 2016)-JAIIO 45 (Tres de Febrero, 2016)."
   ]
  },
  {
   "cell_type": "code",
   "execution_count": null,
   "metadata": {},
   "outputs": [],
   "source": []
  }
 ],
 "metadata": {
  "kernelspec": {
   "display_name": "Python 3",
   "language": "python",
   "name": "python3"
  },
  "language_info": {
   "codemirror_mode": {
    "name": "ipython",
    "version": 3
   },
   "file_extension": ".py",
   "mimetype": "text/x-python",
   "name": "python",
   "nbconvert_exporter": "python",
   "pygments_lexer": "ipython3",
   "version": "3.6.3"
  }
 },
 "nbformat": 4,
 "nbformat_minor": 2
}
